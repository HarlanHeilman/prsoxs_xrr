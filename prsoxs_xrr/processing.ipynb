{
 "cells": [
  {
   "cell_type": "code",
   "execution_count": 1,
   "metadata": {},
   "outputs": [],
   "source": [
    "from xrr import XRR\n",
    "from xrr_toolkit import file_dialog\n",
    "from xrr_sorter import xrr_sorter\n",
    "import ipywidgets as widgets\n",
    "import warnings\n",
    "import matplotlib.pyplot as plt\n",
    "from tqdm.notebook import tqdm\n",
    "import numpy as np\n",
    "\n",
    "warnings.filterwarnings(\"ignore\")"
   ]
  },
  {
   "attachments": {},
   "cell_type": "markdown",
   "metadata": {},
   "source": [
    "# Multi Loader"
   ]
  },
  {
   "cell_type": "code",
   "execution_count": 2,
   "metadata": {},
   "outputs": [],
   "source": [
    "dir = file_dialog()\n",
    "\n",
    "if dir.name == \"CCD\":\n",
    "    xrr_sorter(dir)\n",
    "    multi_dir = dir.parent.joinpath('Sorted')\n",
    "elif dir.name == 'Sorted':\n",
    "    multi_dir = dir"
   ]
  },
  {
   "cell_type": "code",
   "execution_count": 3,
   "metadata": {},
   "outputs": [
    {
     "data": {
      "text/plain": [
       "[WindowsPath('C:/Users/Harlan Heilman/Washington State University (email.wsu.edu)/Carbon Lab Research Group - Documents (1)/Synchrotron Logistics and Data/ALS - Berkeley/Data/BL1101/2023May/XRR/Merged Data/P100/Sorted/250.0'),\n",
       " WindowsPath('C:/Users/Harlan Heilman/Washington State University (email.wsu.edu)/Carbon Lab Research Group - Documents (1)/Synchrotron Logistics and Data/ALS - Berkeley/Data/BL1101/2023May/XRR/Merged Data/P100/Sorted/275.0'),\n",
       " WindowsPath('C:/Users/Harlan Heilman/Washington State University (email.wsu.edu)/Carbon Lab Research Group - Documents (1)/Synchrotron Logistics and Data/ALS - Berkeley/Data/BL1101/2023May/XRR/Merged Data/P100/Sorted/280.0'),\n",
       " WindowsPath('C:/Users/Harlan Heilman/Washington State University (email.wsu.edu)/Carbon Lab Research Group - Documents (1)/Synchrotron Logistics and Data/ALS - Berkeley/Data/BL1101/2023May/XRR/Merged Data/P100/Sorted/281.0'),\n",
       " WindowsPath('C:/Users/Harlan Heilman/Washington State University (email.wsu.edu)/Carbon Lab Research Group - Documents (1)/Synchrotron Logistics and Data/ALS - Berkeley/Data/BL1101/2023May/XRR/Merged Data/P100/Sorted/281.2'),\n",
       " WindowsPath('C:/Users/Harlan Heilman/Washington State University (email.wsu.edu)/Carbon Lab Research Group - Documents (1)/Synchrotron Logistics and Data/ALS - Berkeley/Data/BL1101/2023May/XRR/Merged Data/P100/Sorted/281.4'),\n",
       " WindowsPath('C:/Users/Harlan Heilman/Washington State University (email.wsu.edu)/Carbon Lab Research Group - Documents (1)/Synchrotron Logistics and Data/ALS - Berkeley/Data/BL1101/2023May/XRR/Merged Data/P100/Sorted/281.6'),\n",
       " WindowsPath('C:/Users/Harlan Heilman/Washington State University (email.wsu.edu)/Carbon Lab Research Group - Documents (1)/Synchrotron Logistics and Data/ALS - Berkeley/Data/BL1101/2023May/XRR/Merged Data/P100/Sorted/281.8'),\n",
       " WindowsPath('C:/Users/Harlan Heilman/Washington State University (email.wsu.edu)/Carbon Lab Research Group - Documents (1)/Synchrotron Logistics and Data/ALS - Berkeley/Data/BL1101/2023May/XRR/Merged Data/P100/Sorted/282.0'),\n",
       " WindowsPath('C:/Users/Harlan Heilman/Washington State University (email.wsu.edu)/Carbon Lab Research Group - Documents (1)/Synchrotron Logistics and Data/ALS - Berkeley/Data/BL1101/2023May/XRR/Merged Data/P100/Sorted/282.3'),\n",
       " WindowsPath('C:/Users/Harlan Heilman/Washington State University (email.wsu.edu)/Carbon Lab Research Group - Documents (1)/Synchrotron Logistics and Data/ALS - Berkeley/Data/BL1101/2023May/XRR/Merged Data/P100/Sorted/282.5'),\n",
       " WindowsPath('C:/Users/Harlan Heilman/Washington State University (email.wsu.edu)/Carbon Lab Research Group - Documents (1)/Synchrotron Logistics and Data/ALS - Berkeley/Data/BL1101/2023May/XRR/Merged Data/P100/Sorted/282.7'),\n",
       " WindowsPath('C:/Users/Harlan Heilman/Washington State University (email.wsu.edu)/Carbon Lab Research Group - Documents (1)/Synchrotron Logistics and Data/ALS - Berkeley/Data/BL1101/2023May/XRR/Merged Data/P100/Sorted/282.9'),\n",
       " WindowsPath('C:/Users/Harlan Heilman/Washington State University (email.wsu.edu)/Carbon Lab Research Group - Documents (1)/Synchrotron Logistics and Data/ALS - Berkeley/Data/BL1101/2023May/XRR/Merged Data/P100/Sorted/283.1'),\n",
       " WindowsPath('C:/Users/Harlan Heilman/Washington State University (email.wsu.edu)/Carbon Lab Research Group - Documents (1)/Synchrotron Logistics and Data/ALS - Berkeley/Data/BL1101/2023May/XRR/Merged Data/P100/Sorted/283.3'),\n",
       " WindowsPath('C:/Users/Harlan Heilman/Washington State University (email.wsu.edu)/Carbon Lab Research Group - Documents (1)/Synchrotron Logistics and Data/ALS - Berkeley/Data/BL1101/2023May/XRR/Merged Data/P100/Sorted/283.5'),\n",
       " WindowsPath('C:/Users/Harlan Heilman/Washington State University (email.wsu.edu)/Carbon Lab Research Group - Documents (1)/Synchrotron Logistics and Data/ALS - Berkeley/Data/BL1101/2023May/XRR/Merged Data/P100/Sorted/283.7'),\n",
       " WindowsPath('C:/Users/Harlan Heilman/Washington State University (email.wsu.edu)/Carbon Lab Research Group - Documents (1)/Synchrotron Logistics and Data/ALS - Berkeley/Data/BL1101/2023May/XRR/Merged Data/P100/Sorted/283.7 2'),\n",
       " WindowsPath('C:/Users/Harlan Heilman/Washington State University (email.wsu.edu)/Carbon Lab Research Group - Documents (1)/Synchrotron Logistics and Data/ALS - Berkeley/Data/BL1101/2023May/XRR/Merged Data/P100/Sorted/283.7 3'),\n",
       " WindowsPath('C:/Users/Harlan Heilman/Washington State University (email.wsu.edu)/Carbon Lab Research Group - Documents (1)/Synchrotron Logistics and Data/ALS - Berkeley/Data/BL1101/2023May/XRR/Merged Data/P100/Sorted/284.2'),\n",
       " WindowsPath('C:/Users/Harlan Heilman/Washington State University (email.wsu.edu)/Carbon Lab Research Group - Documents (1)/Synchrotron Logistics and Data/ALS - Berkeley/Data/BL1101/2023May/XRR/Merged Data/P100/Sorted/285.1'),\n",
       " WindowsPath('C:/Users/Harlan Heilman/Washington State University (email.wsu.edu)/Carbon Lab Research Group - Documents (1)/Synchrotron Logistics and Data/ALS - Berkeley/Data/BL1101/2023May/XRR/Merged Data/P100/Sorted/287.0'),\n",
       " WindowsPath('C:/Users/Harlan Heilman/Washington State University (email.wsu.edu)/Carbon Lab Research Group - Documents (1)/Synchrotron Logistics and Data/ALS - Berkeley/Data/BL1101/2023May/XRR/Merged Data/P100/Sorted/289.0')]"
      ]
     },
     "execution_count": 3,
     "metadata": {},
     "output_type": "execute_result"
    }
   ],
   "source": [
    "Energies = list(multi_dir.iterdir())\n",
    "Energies"
   ]
  },
  {
   "cell_type": "code",
   "execution_count": 5,
   "metadata": {},
   "outputs": [
    {
     "data": {
      "application/vnd.jupyter.widget-view+json": {
       "model_id": "bb8f24257202446cb778a96ebb4fd76c",
       "version_major": 2,
       "version_minor": 0
      },
      "text/plain": [
       "  0%|          | 0/23 [00:00<?, ?it/s]"
      ]
     },
     "metadata": {},
     "output_type": "display_data"
    }
   ],
   "source": [
    "xrr_data = {energy.name: XRR(energy) for energy in tqdm(Energies)}"
   ]
  },
  {
   "cell_type": "code",
   "execution_count": 8,
   "metadata": {},
   "outputs": [],
   "source": [
    "import pickle\n",
    "from xrr_toolkit import save_dialog\n",
    "\n",
    "with open(f'{save_dialog()}.pickle', 'wb') as handle:\n",
    "    pickle.dump(xrr_data, handle, protocol=pickle.HIGHEST_PROTOCOL)"
   ]
  },
  {
   "cell_type": "code",
   "execution_count": 9,
   "metadata": {},
   "outputs": [
    {
     "data": {
      "application/vnd.jupyter.widget-view+json": {
       "model_id": "5430df1203e747ad86ef0f78251f8ec9",
       "version_major": 2,
       "version_minor": 0
      },
      "text/plain": [
       "interactive(children=(Dropdown(description='energy', options=('250.0', '275.0', '280.0', '281.0', '281.2', '28…"
      ]
     },
     "metadata": {},
     "output_type": "display_data"
    }
   ],
   "source": [
    "@widgets.interact(energy=[E.name for E in Energies])\n",
    "\n",
    "def show_plots(energy):\n",
    "    xrr = xrr_data[f\"{energy}\"]\n",
    "\n",
    "    @widgets.interact(point=(0, xrr.refl.q.size - 1))\n",
    "    def spot_checker(point=0):\n",
    "        xrr.check_spot(point)"
   ]
  },
  {
   "cell_type": "code",
   "execution_count": 10,
   "metadata": {},
   "outputs": [
    {
     "ename": "TypeError",
     "evalue": "Images.generate_mask() takes 2 positional arguments but 3 were given",
     "output_type": "error",
     "traceback": [
      "\u001b[1;31m---------------------------------------------------------------------------\u001b[0m",
      "\u001b[1;31mTypeError\u001b[0m                                 Traceback (most recent call last)",
      "Cell \u001b[1;32mIn[10], line 2\u001b[0m\n\u001b[0;32m      1\u001b[0m xrr1 \u001b[39m=\u001b[39m xrr_data[\u001b[39m'\u001b[39m\u001b[39m289.0\u001b[39m\u001b[39m'\u001b[39m]\n\u001b[1;32m----> 2\u001b[0m mask \u001b[39m=\u001b[39m xrr1\u001b[39m.\u001b[39;49mimages\u001b[39m.\u001b[39;49mgenerate_mask(\u001b[39m1\u001b[39;49m, \u001b[39m25\u001b[39;49m)\n\u001b[0;32m      3\u001b[0m plt\u001b[39m.\u001b[39mimshow(mask)\n",
      "\u001b[1;31mTypeError\u001b[0m: Images.generate_mask() takes 2 positional arguments but 3 were given"
     ]
    }
   ],
   "source": [
    "xrr1 = xrr_data['289.0']\n",
    "mask = xrr1.images.generate_mask(1)\n",
    "plt.imshow(mask)"
   ]
  },
  {
   "attachments": {},
   "cell_type": "markdown",
   "metadata": {},
   "source": [
    "# Fitting"
   ]
  },
  {
   "attachments": {},
   "cell_type": "markdown",
   "metadata": {},
   "source": [
    "import os.path\n",
    "import sys\n",
    "import numpy as np\n",
    "import matplotlib.pyplot as plt\n",
    "import h5py\n"
   ]
  }
 ],
 "metadata": {
  "kernelspec": {
   "display_name": "base",
   "language": "python",
   "name": "python3"
  },
  "language_info": {
   "codemirror_mode": {
    "name": "ipython",
    "version": 3
   },
   "file_extension": ".py",
   "mimetype": "text/x-python",
   "name": "python",
   "nbconvert_exporter": "python",
   "pygments_lexer": "ipython3",
   "version": "3.10.9"
  },
  "orig_nbformat": 4
 },
 "nbformat": 4,
 "nbformat_minor": 2
}
