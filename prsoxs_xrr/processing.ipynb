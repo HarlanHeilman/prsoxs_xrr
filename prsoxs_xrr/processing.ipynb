{
 "cells": [
  {
   "cell_type": "code",
   "execution_count": 1,
   "metadata": {},
   "outputs": [],
   "source": [
    "from xrr import XRR\n",
    "from xrr_toolkit import file_dialog\n",
    "from xrr_sorter import xrr_sorter\n",
    "import ipywidgets as widgets\n",
    "import warnings\n",
    "warnings.filterwarnings('ignore')"
   ]
  },
  {
   "cell_type": "code",
   "execution_count": 2,
   "metadata": {},
   "outputs": [],
   "source": [
    "dir = file_dialog()"
   ]
  },
  {
   "cell_type": "code",
   "execution_count": 6,
   "metadata": {},
   "outputs": [
    {
     "name": "stdout",
     "output_type": "stream",
     "text": [
      "The sorted directory already exists - Checking for energy sub-directories\n"
     ]
    },
    {
     "data": {
      "application/vnd.jupyter.widget-view+json": {
       "model_id": "d805cd7d5f164ec3bf9891af9602d301",
       "version_major": 2,
       "version_minor": 0
      },
      "text/plain": [
       "  0%|          | 0/49 [00:00<?, ?it/s]"
      ]
     },
     "metadata": {},
     "output_type": "display_data"
    }
   ],
   "source": [
    "# xrr_sorter(dir)"
   ]
  },
  {
   "cell_type": "code",
   "execution_count": 3,
   "metadata": {},
   "outputs": [],
   "source": [
    "xrr1 = XRR(dir, height = 25)"
   ]
  },
  {
   "cell_type": "code",
   "execution_count": 4,
   "metadata": {},
   "outputs": [
    {
     "data": {
      "application/vnd.jupyter.widget-view+json": {
       "model_id": "58431886ce734d80b92dfbaf51a4f73d",
       "version_major": 2,
       "version_minor": 0
      },
      "text/plain": [
       "interactive(children=(IntSlider(value=0, description='point', max=44), Output()), _dom_classes=('widget-intera…"
      ]
     },
     "metadata": {},
     "output_type": "display_data"
    }
   ],
   "source": [
    "%matplotlib inline\n",
    "@widgets.interact(point = (0, xrr1.refl.q.size-1))\n",
    "def spot_checker(point = 0): xrr1.check_spot(point)"
   ]
  },
  {
   "attachments": {},
   "cell_type": "markdown",
   "metadata": {},
   "source": [
    "This allows us to see the raw data, and how the algorithm subtracts out data. "
   ]
  },
  {
   "attachments": {},
   "cell_type": "markdown",
   "metadata": {},
   "source": [
    "# Multi Loader"
   ]
  },
  {
   "cell_type": "code",
   "execution_count": 2,
   "metadata": {},
   "outputs": [],
   "source": [
    "multi_dir = file_dialog()\n",
    "assert multi_dir.name == 'Sorted'"
   ]
  },
  {
   "cell_type": "code",
   "execution_count": 3,
   "metadata": {},
   "outputs": [
    {
     "data": {
      "text/plain": [
       "[WindowsPath('C:/Users/Harlan Heilman/Washington State University (email.wsu.edu)/Carbon Lab Research Group - Documents (1)/Synchrotron Logistics and Data/ALS - Berkeley/Data/BL1101/2023Mar/XRR/2023 03 14/CCD Scan 80273/Sorted/282.5'),\n",
       " WindowsPath('C:/Users/Harlan Heilman/Washington State University (email.wsu.edu)/Carbon Lab Research Group - Documents (1)/Synchrotron Logistics and Data/ALS - Berkeley/Data/BL1101/2023Mar/XRR/2023 03 14/CCD Scan 80273/Sorted/282.7'),\n",
       " WindowsPath('C:/Users/Harlan Heilman/Washington State University (email.wsu.edu)/Carbon Lab Research Group - Documents (1)/Synchrotron Logistics and Data/ALS - Berkeley/Data/BL1101/2023Mar/XRR/2023 03 14/CCD Scan 80273/Sorted/282.9'),\n",
       " WindowsPath('C:/Users/Harlan Heilman/Washington State University (email.wsu.edu)/Carbon Lab Research Group - Documents (1)/Synchrotron Logistics and Data/ALS - Berkeley/Data/BL1101/2023Mar/XRR/2023 03 14/CCD Scan 80273/Sorted/283.1'),\n",
       " WindowsPath('C:/Users/Harlan Heilman/Washington State University (email.wsu.edu)/Carbon Lab Research Group - Documents (1)/Synchrotron Logistics and Data/ALS - Berkeley/Data/BL1101/2023Mar/XRR/2023 03 14/CCD Scan 80273/Sorted/283.3'),\n",
       " WindowsPath('C:/Users/Harlan Heilman/Washington State University (email.wsu.edu)/Carbon Lab Research Group - Documents (1)/Synchrotron Logistics and Data/ALS - Berkeley/Data/BL1101/2023Mar/XRR/2023 03 14/CCD Scan 80273/Sorted/283.5'),\n",
       " WindowsPath('C:/Users/Harlan Heilman/Washington State University (email.wsu.edu)/Carbon Lab Research Group - Documents (1)/Synchrotron Logistics and Data/ALS - Berkeley/Data/BL1101/2023Mar/XRR/2023 03 14/CCD Scan 80273/Sorted/283.7')]"
      ]
     },
     "execution_count": 3,
     "metadata": {},
     "output_type": "execute_result"
    }
   ],
   "source": [
    "import os\n",
    "import pathlib \n",
    "\n",
    "xrr_data = {}\n",
    "Energies = list(multi_dir.iterdir())\n",
    "Energies"
   ]
  },
  {
   "cell_type": "code",
   "execution_count": 4,
   "metadata": {},
   "outputs": [
    {
     "data": {
      "application/vnd.jupyter.widget-view+json": {
       "model_id": "b401757802234fcdb935a7cc0eeac9e0",
       "version_major": 2,
       "version_minor": 0
      },
      "text/plain": [
       "  0%|          | 0/7 [00:00<?, ?it/s]"
      ]
     },
     "metadata": {},
     "output_type": "display_data"
    }
   ],
   "source": [
    "from tqdm.auto import tqdm\n",
    "for energy in tqdm(Energies):\n",
    "    xrr_data[f'{energy.name}'] = XRR(energy)"
   ]
  },
  {
   "cell_type": "code",
   "execution_count": 5,
   "metadata": {},
   "outputs": [
    {
     "data": {
      "application/vnd.jupyter.widget-view+json": {
       "model_id": "5c4c9b5512e14572bef3657c0782efd3",
       "version_major": 2,
       "version_minor": 0
      },
      "text/plain": [
       "interactive(children=(Dropdown(description='energy', options=('282.5', '282.7', '282.9', '283.1', '283.3', '28…"
      ]
     },
     "metadata": {},
     "output_type": "display_data"
    }
   ],
   "source": [
    "@widgets.interact(energy = [E.name for E in Energies])\n",
    "def show_plots(energy): \n",
    "    xrr = xrr_data[f'{energy}']\n",
    "    @widgets.interact(point = (0, xrr.refl.q.size-1))\n",
    "    def spot_checker(point = 0): xrr.check_spot(point)"
   ]
  },
  {
   "cell_type": "code",
   "execution_count": null,
   "metadata": {},
   "outputs": [],
   "source": []
  }
 ],
 "metadata": {
  "kernelspec": {
   "display_name": "base",
   "language": "python",
   "name": "python3"
  },
  "language_info": {
   "codemirror_mode": {
    "name": "ipython",
    "version": 3
   },
   "file_extension": ".py",
   "mimetype": "text/x-python",
   "name": "python",
   "nbconvert_exporter": "python",
   "pygments_lexer": "ipython3",
   "version": "3.10.9"
  },
  "orig_nbformat": 4
 },
 "nbformat": 4,
 "nbformat_minor": 2
}
